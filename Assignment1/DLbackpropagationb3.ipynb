{
 "cells": [
  {
   "cell_type": "markdown",
   "metadata": {},
   "source": [
    "Sure, let's step through the code to see exactly where and how the gradients are calculated. We'll use the example provided:\n",
    "\n"
   ]
  },
  {
   "cell_type": "code",
   "execution_count": null,
   "metadata": {},
   "outputs": [],
   "source": [
    "a = Var(3.0)\n",
    "b = Var(5.0)\n",
    "f = a * b\n",
    "f.backward()"
   ]
  },
  {
   "cell_type": "code",
   "execution_count": null,
   "metadata": {},
   "outputs": [],
   "source": [
    "a = Var(3.0)  # a.v = 3.0, a.grad = 0.0\n",
    "b = Var(5.0)  # b.v = 5.0, b.grad = 0.0\n",
    "\n",
    "f = a * b     # f.v = 15.0, f.grad = 0.0, f.grad_fn = lambda: [(a, 5.0), (b, 3.0)]\n",
    "\n",
    "f.backward()  # Initiates backpropagation\n",
    "\n",
    "# Inside f.backprop(1.0):\n",
    "# f.grad = 1.0\n",
    "# f.grad_fn() returns [(a, 5.0), (b, 3.0)]\n",
    "# a.backprop(5.0 * 1.0) -> a.grad = 5.0\n",
    "# b.backprop(3.0 * 1.0) -> b.grad = 3.0\n",
    "\n",
    "for v in [a, b, f]:\n",
    "    print(v)  # Outputs the values and gradients of a, b, and f"
   ]
  },
  {
   "cell_type": "markdown",
   "metadata": {},
   "source": [
    "\n",
    "\n",
    "Expected output:\n"
   ]
  },
  {
   "cell_type": "code",
   "execution_count": null,
   "metadata": {},
   "outputs": [],
   "source": [
    "Var(v=3.0000, grad=5.0000)\n",
    "Var(v=5.0000, grad=3.0000)\n",
    "Var(v=15.0000, grad=1.0000)"
   ]
  },
  {
   "cell_type": "markdown",
   "metadata": {},
   "source": [
    "\n",
    "\n",
    "This output confirms that the gradients are correctly calculated using the chain rule during the backpropagation process."
   ]
  }
 ],
 "metadata": {
  "language_info": {
   "name": "python"
  }
 },
 "nbformat": 4,
 "nbformat_minor": 2
}
