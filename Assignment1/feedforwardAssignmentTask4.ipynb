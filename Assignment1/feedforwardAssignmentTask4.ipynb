{
 "cells": [
  {
   "cell_type": "markdown",
   "metadata": {},
   "source": [
    "# Imports"
   ]
  },
  {
   "cell_type": "code",
   "execution_count": 1,
   "metadata": {},
   "outputs": [],
   "source": [
    "# Import necessary libraries\n",
    "import torch\n",
    "import torch.nn as nn\n",
    "import torch.optim as optim\n",
    "from torch.utils.data import Dataset, DataLoader\n",
    "import matplotlib.pyplot as plt\n",
    "import numpy as np\n",
    "import seaborn as sns\n",
    "import pandas as pd\n",
    "import wandb\n",
    "import os\n",
    "os.environ[\"WANDB_CONSOLE\"] = \"off\"  "
   ]
  },
  {
   "cell_type": "markdown",
   "metadata": {},
   "source": [
    "# 1)"
   ]
  },
  {
   "cell_type": "markdown",
   "metadata": {},
   "source": [
    "### Data generation class"
   ]
  },
  {
   "cell_type": "code",
   "execution_count": 2,
   "metadata": {},
   "outputs": [],
   "source": [
    "# Data Generation Class\n",
    "class NoisyXORDataset(Dataset):\n",
    "    def __init__(self, n_samples=1000, std_dev=0.1):\n",
    "        self.n_samples = n_samples\n",
    "        self.std_dev = std_dev\n",
    "        self.x, self.y = self.generate_data()\n",
    "    \n",
    "    def generate_data(self):\n",
    "        centers = [(0, 0), (0, 1), (1, 0), (1, 1)]\n",
    "        x = []\n",
    "        y = []\n",
    "        for _ in range(self.n_samples):\n",
    "            m1, m2 = centers[np.random.randint(0, 4)]\n",
    "            noise = self.std_dev * np.random.randn(2)\n",
    "            x.append([m1 + noise[0], m2 + noise[1]])\n",
    "            y.append(m1 ^ m2)  # XOR label\n",
    "        return torch.tensor(x, dtype=torch.float32), torch.tensor(y, dtype=torch.float32).unsqueeze(1)\n",
    "    \n",
    "    def __len__(self):\n",
    "        return self.n_samples\n",
    "    \n",
    "    def __getitem__(self, idx):\n",
    "        return self.x[idx], self.y[idx]"
   ]
  },
  {
   "cell_type": "markdown",
   "metadata": {},
   "source": [
    "### Define the feedforward Neural Network"
   ]
  },
  {
   "cell_type": "code",
   "execution_count": 3,
   "metadata": {},
   "outputs": [],
   "source": [
    "# Neural Network Model\n",
    "class FeedforwardNN(nn.Module):\n",
    "    def __init__(self, input_dim=2, hidden_dims=[3], output_dim=1):\n",
    "        super(FeedforwardNN, self).__init__()\n",
    "        layers = []\n",
    "        prev_dim = input_dim\n",
    "        for h in hidden_dims:\n",
    "            layers.append(nn.Linear(prev_dim, h))\n",
    "            layers.append(nn.Tanh())\n",
    "            prev_dim = h\n",
    "        layers.append(nn.Linear(prev_dim, output_dim))\n",
    "        self.model = nn.Sequential(*layers)\n",
    "    \n",
    "    def forward(self, x):\n",
    "        return self.model(x)"
   ]
  },
  {
   "cell_type": "markdown",
   "metadata": {},
   "source": [
    "### Training function"
   ]
  },
  {
   "cell_type": "code",
   "execution_count": 4,
   "metadata": {},
   "outputs": [],
   "source": [
    "# Training Function\n",
    "def train_model(model, train_loader, val_loader, criterion, optimizer, project_name, run_name=None, epochs=50):\n",
    "    # Initialize W&B with configuration if provided\n",
    "    wandb.init(\n",
    "        project=project_name,\n",
    "        name=run_name,\n",
    "        config={\n",
    "            \"epochs\": 30,  # Example hyperparameters\n",
    "            \"batch_size\": 32,\n",
    "            \"learning_rate\": 0.001,\n",
    "            \"architecture\": \"feedforward\"\n",
    "        },\n",
    "        settings=wandb.Settings(silent=True)\n",
    "    )\n",
    "\n",
    "    # Training loop\n",
    "    model.train()\n",
    "    for epoch in range(epochs):\n",
    "        running_loss = 0.0\n",
    "\n",
    "        for i, (inputs, labels) in enumerate(train_loader):\n",
    "            optimizer.zero_grad()\n",
    "            outputs = model(inputs)\n",
    "            loss = criterion(outputs, labels)\n",
    "            loss.backward()\n",
    "            optimizer.step()\n",
    "\n",
    "            running_loss += loss.item()\n",
    "\n",
    "        # Calculate validation loss\n",
    "        model.eval()\n",
    "        val_loss = 0.0\n",
    "        with torch.no_grad():\n",
    "            for inputs, labels in val_loader:\n",
    "                outputs = model(inputs)\n",
    "                loss = criterion(outputs, labels)\n",
    "                val_loss += loss.item()\n",
    "        wandb.log({\n",
    "            \"epoch\": epoch + 1,\n",
    "            \"training_loss\": running_loss / len(train_loader),\n",
    "            \"validation_loss\": val_loss / len(val_loader),\n",
    "        })\n",
    "\n",
    "    # Finish the W&B run\n",
    "    wandb.finish()"
   ]
  },
  {
   "cell_type": "markdown",
   "metadata": {},
   "source": [
    "### Plot decision boundaries"
   ]
  },
  {
   "cell_type": "code",
   "execution_count": 5,
   "metadata": {},
   "outputs": [],
   "source": [
    "def plot_decision_boundary(model, dataset, ax, title):\n",
    "    # Extract the full dataset from the Subset object\n",
    "    x_full = torch.stack([dataset[i][0] for i in range(len(dataset))])\n",
    "    y_full = torch.stack([dataset[i][1] for i in range(len(dataset))])\n",
    "    \n",
    "    x_min, x_max = x_full[:, 0].min() - 0.5, x_full[:, 0].max() + 0.5\n",
    "    y_min, y_max = x_full[:, 1].min() - 0.5, x_full[:, 1].max() + 0.5\n",
    "    xx, yy = np.meshgrid(np.arange(x_min, x_max, 0.01),\n",
    "                         np.arange(y_min, y_max, 0.01))\n",
    "    \n",
    "    grid = torch.tensor(np.c_[xx.ravel(), yy.ravel()], dtype=torch.float32)\n",
    "    with torch.no_grad():\n",
    "        predictions = torch.sigmoid(model(grid)).reshape(xx.shape)\n",
    "    \n",
    "    ax.contourf(xx, yy, predictions, levels=[0, 0.5, 1], alpha=0.6, cmap=\"coolwarm\")\n",
    "    ax.scatter(x_full[:, 0], x_full[:, 1], c=y_full.squeeze(), cmap=\"coolwarm\", edgecolor=\"k\")\n",
    "    ax.set_title(title)"
   ]
  },
  {
   "cell_type": "markdown",
   "metadata": {},
   "source": [
    "### Execute code"
   ]
  },
  {
   "cell_type": "code",
   "execution_count": 6,
   "metadata": {},
   "outputs": [
    {
     "name": "stderr",
     "output_type": "stream",
     "text": [
      "\u001b[34m\u001b[1mwandb\u001b[0m: Using wandb-core as the SDK backend.  Please refer to https://wandb.me/wandb-core for more information.\n",
      "C:\\Users\\wheus\\AppData\\Local\\Temp\\ipykernel_10136\\2458556585.py:8: DeprecationWarning: __array__ implementation doesn't accept a copy keyword, so passing copy=False failed. __array__ must implement 'dtype' and 'copy' keyword arguments.\n",
      "  xx, yy = np.meshgrid(np.arange(x_min, x_max, 0.01),\n",
      "C:\\Users\\wheus\\AppData\\Local\\Temp\\ipykernel_10136\\2458556585.py:9: DeprecationWarning: __array__ implementation doesn't accept a copy keyword, so passing copy=False failed. __array__ must implement 'dtype' and 'copy' keyword arguments.\n",
      "  np.arange(y_min, y_max, 0.01))\n"
     ]
    },
    {
     "data": {
      "image/png": "[encoded data removed]",
      "text/plain": [
       "<Figure size 1200x600 with 2 Axes>"
      ]
     },
     "metadata": {},
     "output_type": "display_data"
    }
   ],
   "source": [
    "# Dataset meta variables \n",
    "total_samples = 1500\n",
    "train_size = 1200\n",
    "val_size = total_samples - train_size\n",
    "\n",
    "\n",
    "# Generate a single dataset\n",
    "full_dataset = NoisyXORDataset(n_samples=total_samples, std_dev=0.1)\n",
    "\n",
    "# Split into training and validation sets (e.g., 1000 for training, 300 for validation)\n",
    "train_dataset, val_dataset = torch.utils.data.random_split(full_dataset, [train_size, val_size])\n",
    "    \n",
    "train_loader = DataLoader(train_dataset, batch_size=32, shuffle=True)\n",
    "val_loader = DataLoader(val_dataset, batch_size=32, shuffle=True)\n",
    "\n",
    "# Initialize Model, Loss, and Optimizer\n",
    "model = FeedforwardNN(hidden_dims=[3])\n",
    "criterion = nn.BCEWithLogitsLoss()\n",
    "optimizer = optim.Adam(model.parameters(), lr=0.01)\n",
    "\n",
    "# Train the Model\n",
    "train_model(model=model, train_loader=train_loader, val_loader=val_loader, criterion=criterion, optimizer=optimizer, epochs=50, project_name=\"noisy-xor-classification single run\")\n",
    "\n",
    "# Visualize Decision Boundary\n",
    "fig, axs = plt.subplots(1, 2, figsize=(12, 6))\n",
    "plot_decision_boundary(model, train_dataset, axs[0], title=\"Training Set\")\n",
    "plot_decision_boundary(model, val_dataset, axs[1], title=\"Validation Set\")\n",
    "plt.show()"
   ]
  },
  {
   "cell_type": "markdown",
   "metadata": {},
   "source": [
    "## 1.a)"
   ]
  },
  {
   "cell_type": "markdown",
   "metadata": {},
   "source": [
    "The two versions of the binary cross entropy loss in PyTorch are BCELoss and BCEWithLogitsLoss.\n",
    "\n",
    "The difference is that BCELoss requires the input to be probabilities (values between 0 and 1), meaning you need to apply a sigmoid activation manually beforehand if your data is not already probabilities. Whereas BCEWithLogitsLoss accepts raw logits which is unbounded real numbers and applies the sigmoid internally.\n",
    "\n",
    "This results in BCEWithLogitsLoss being more numerically stable because it integrates the sigmoid function and binary cross-entropy computation into a single operation which is less likely to result in numerical errors that blow up in ones face. Therefore we have also chosen this as the loss function in our implementation of the FFNN. "
   ]
  },
  {
   "cell_type": "markdown",
   "metadata": {},
   "source": [
    "# 2)\n",
    "Implementation of subtask 2"
   ]
  },
  {
   "cell_type": "markdown",
   "metadata": {},
   "source": [
    "### Function that evaluates a model"
   ]
  },
  {
   "cell_type": "code",
   "execution_count": 7,
   "metadata": {},
   "outputs": [],
   "source": [
    "def evaluate_model(hidden_dims, train_loader, test_dataset, width, depth, epochs=50, runs=5):\n",
    "    \"\"\"Train and evaluate the model multiple times, returning the mean and std of loss.\"\"\"\n",
    "    losses = []\n",
    "    for _ in range(runs):\n",
    "        # Initialize the model\n",
    "        model = FeedforwardNN(hidden_dims=hidden_dims)\n",
    "        criterion = nn.BCEWithLogitsLoss()\n",
    "        optimizer = optim.Adam(model.parameters(), lr=0.01)\n",
    "        \n",
    "        # Train the model\n",
    "        test_loader = DataLoader(test_dataset, batch_size=len(test_dataset))\n",
    "        train_model(model=model, train_loader=train_loader, val_loader=test_loader, criterion=criterion, optimizer=optimizer, epochs=epochs, project_name='noisy-xor-classification depth and width', run_name=f\"width{width}, depth{depth}\")\n",
    "        \n",
    "        # Evaluate on test dataset\n",
    "        model.eval()\n",
    "        with torch.no_grad():\n",
    "            for x_batch, y_batch in test_loader:\n",
    "                outputs = model(x_batch)\n",
    "                loss = criterion(outputs, y_batch).item()\n",
    "                losses.append(loss)\n",
    "    \n",
    "    return np.mean(losses), np.std(losses)"
   ]
  },
  {
   "cell_type": "markdown",
   "metadata": {},
   "source": [
    "### Function that tests different network configurations"
   ]
  },
  {
   "cell_type": "code",
   "execution_count": 8,
   "metadata": {},
   "outputs": [],
   "source": [
    "def test_network_configurations():\n",
    "    # Generate a fixed dataset\n",
    "    full_dataset = NoisyXORDataset(n_samples=1300, std_dev=0.1)\n",
    "    train_size = 1000\n",
    "    val_size = len(full_dataset) - train_size\n",
    "    train_dataset, test_dataset = torch.utils.data.random_split(full_dataset, [train_size, val_size])\n",
    "    train_loader = DataLoader(train_dataset, batch_size=32, shuffle=True)\n",
    "\n",
    "    # Configuration ranges\n",
    "    depths = range(0, 4)  # 0 to 3 hidden layers\n",
    "    widths = range(1, 4)  # 1 to 3 units per layer\n",
    "\n",
    "    results = []\n",
    "    \n",
    "    for depth in depths:\n",
    "        for width in widths:\n",
    "            # Define hidden layer configuration\n",
    "            hidden_dims = [width] * depth\n",
    "            \n",
    "            print(f\"Evaluating model with depth={depth} and width={width}\")\n",
    "            mean_loss, std_loss = evaluate_model(hidden_dims, train_loader, test_dataset, width, depth)\n",
    "            results.append({\"Depth\": depth, \"Width\": width, \"Mean Loss\": mean_loss, \"Std Loss\": std_loss})\n",
    "    \n",
    "    # Convert results to a DataFrame for better visualization\n",
    "    results_df = pd.DataFrame(results)\n",
    "    print(results_df)\n",
    "    return results_df"
   ]
  },
  {
   "cell_type": "markdown",
   "metadata": {},
   "source": [
    "### Execute code"
   ]
  },
  {
   "cell_type": "code",
   "execution_count": 9,
   "metadata": {},
   "outputs": [
    {
     "name": "stdout",
     "output_type": "stream",
     "text": [
      "Evaluating model with depth=0 and width=1\n",
      "Evaluating model with depth=0 and width=2\n",
      "Evaluating model with depth=0 and width=3\n",
      "Evaluating model with depth=1 and width=1\n",
      "Evaluating model with depth=1 and width=2\n",
      "Evaluating model with depth=1 and width=3\n",
      "Evaluating model with depth=2 and width=1\n",
      "Evaluating model with depth=2 and width=2\n",
      "Evaluating model with depth=2 and width=3\n",
      "Evaluating model with depth=3 and width=1\n",
      "Evaluating model with depth=3 and width=2\n",
      "Evaluating model with depth=3 and width=3\n",
      "    Depth  Width  Mean Loss  Std Loss\n",
      "0       0      1   0.689270  0.000217\n",
      "1       0      2   0.689241  0.000354\n",
      "2       0      3   0.689463  0.000309\n",
      "3       1      1   0.469025  0.031892\n",
      "4       1      2   0.214731  0.161857\n",
      "5       1      3   0.066591  0.120980\n",
      "6       2      1   0.456510  0.023220\n",
      "7       2      2   0.006943  0.003488\n",
      "8       2      3   0.001481  0.001447\n",
      "9       3      1   0.447374  0.009212\n",
      "10      3      2   0.167357  0.198127\n",
      "11      3      3   0.088986  0.172866\n"
     ]
    },
    {
     "data": {
      "image/png": "[encoded data removed]",
      "text/plain": [
       "<Figure size 800x600 with 2 Axes>"
      ]
     },
     "metadata": {},
     "output_type": "display_data"
    }
   ],
   "source": [
    "results_df = test_network_configurations()\n",
    "\n",
    "# Create a heatmap for Mean Loss\n",
    "pivot_table = results_df.pivot(index=\"Depth\", columns=\"Width\", values=\"Mean Loss\")\n",
    "plt.figure(figsize=(8, 6))\n",
    "sns.heatmap(pivot_table, annot=True, fmt=\".4f\", cmap=\"coolwarm\", cbar_kws={\"label\": \"Mean Loss\"})\n",
    "plt.title(\"Mean Loss by Network Depth and Width\")\n",
    "plt.xlabel(\"Width\")\n",
    "plt.ylabel(\"Depth\")\n",
    "plt.show()\n",
    "\n",
    "# Save results\n",
    "results_df.to_csv(\"network_evaluation_results.csv\", index=False)"
   ]
  },
  {
   "cell_type": "markdown",
   "metadata": {},
   "source": [
    "# 3)\n",
    "\n",
    "These results of the depth's and width's effect on the mean and std deviation of the FFNN's performance on the test data set show that increasing depth and width improves the network's ability to classify the noisy-XOR data. Networks with no hidden layers (Depth = 0) perform poorly, with a mean loss around 0.69, this aligns well with our expectations that a NN with no hidden layers cannot handle the non linear XOR problem. \n",
    "\n",
    "Deeper architectures (Depth = 3) achieve significantly better performance, especially with wider layers, where Depth = 3 and Width = 2 achieves the best mean loss of 0.0014. However, narrower networks (Width = 1) struggle, even with deeper architectures, highlighting the importance of sufficient width for learning complex patterns.\n",
    "\n",
    "We see that Width=3 and Depth=2 gives us the best results for the XOR task in this implementation."
   ]
  },
  {
   "cell_type": "markdown",
   "metadata": {},
   "source": [
    "### Now we calculate how many parameters each of these networks has"
   ]
  },
  {
   "cell_type": "code",
   "execution_count": 10,
   "metadata": {},
   "outputs": [
    {
     "name": "stdout",
     "output_type": "stream",
     "text": [
      "Number of parameters for model with depth=0 and width=1: 3 parameters\n",
      "Number of parameters for model with depth=0 and width=2: 3 parameters\n",
      "Number of parameters for model with depth=0 and width=3: 3 parameters\n",
      "Number of parameters for model with depth=1 and width=1: 5 parameters\n",
      "Number of parameters for model with depth=1 and width=2: 9 parameters\n",
      "Number of parameters for model with depth=1 and width=3: 13 parameters\n",
      "Number of parameters for model with depth=2 and width=1: 7 parameters\n",
      "Number of parameters for model with depth=2 and width=2: 15 parameters\n",
      "Number of parameters for model with depth=2 and width=3: 25 parameters\n",
      "Number of parameters for model with depth=3 and width=1: 9 parameters\n",
      "Number of parameters for model with depth=3 and width=2: 21 parameters\n",
      "Number of parameters for model with depth=3 and width=3: 37 parameters\n"
     ]
    }
   ],
   "source": [
    "def calculate_parameters(depth, width, input_size=2, output_size=1):\n",
    "    if depth == 0:\n",
    "        # No hidden layers, directly input to output\n",
    "        return input_size * output_size + output_size\n",
    "    else:\n",
    "        # Parameters from input to first hidden layer\n",
    "        input_to_hidden = input_size * width + width\n",
    "        # Parameters between hidden layers\n",
    "        hidden_to_hidden = (depth - 1) * (width * width + width)\n",
    "        # Parameters from last hidden layer to output\n",
    "        hidden_to_output = width * output_size + output_size\n",
    "        # Total parameters\n",
    "        return input_to_hidden + hidden_to_hidden + hidden_to_output\n",
    "\n",
    "\n",
    "# Test all specified configurations\n",
    "for depth in range(4):  # Depth values: 0, 1, 2, 3\n",
    "    for width in range(1, 4):  # Width values: 1, 2, 3\n",
    "        total_params = calculate_parameters(depth, width)\n",
    "        print(f\"Number of parameters for model with depth={depth} and width={width}: {total_params} parameters\")\n"
   ]
  },
  {
   "cell_type": "markdown",
   "metadata": {},
   "source": [
    "### Training parameters"
   ]
  },
  {
   "cell_type": "markdown",
   "metadata": {},
   "source": [
    "The training parameters in our FFNN are the following:\n",
    "-  Learning Rate: This is set when initializing the optimizer (e.g., lr=0.01). A lower learning rate might lead to slower convergence but potentially more stable and accurate results. Conversely, a higher learning rate can speed up convergence but risks overshooting the optimal solution or failing to converge.\n",
    "\n",
    "-  Batch Size: This is set when creating the DataLoader (e.g., batch_size=32). Smaller batch sizes introduce more variability (stochasticity) in gradient updates, which can help avoid local minima but may slow convergence. Larger batch sizes stabilize training but may result in suboptimal solutions for complex datasets.\n",
    "\n",
    "-  Epochs: This is set as an argument in the train_model function (e.g., epochs=50). Fewer epochs may result in underfitting, as the model does not fully learn the patterns in the data. Increasing the number of epochs allows for better learning but risks overfitting, especially for deeper and wider networks."
   ]
  },
  {
   "cell_type": "markdown",
   "metadata": {},
   "source": [
    "# Task 4.2) Sweeping using W&B"
   ]
  },
  {
   "cell_type": "code",
   "execution_count": 16,
   "metadata": {},
   "outputs": [],
   "source": [
    "def train_and_evaluate(config=None):\n",
    "    with wandb.init(config=config):\n",
    "        config = wandb.config\n",
    "\n",
    "        # Example dataset and data loaders (replace with your noisy-xor data)\n",
    "        train_loader = DataLoader(train_dataset, batch_size=config.batch_size, shuffle=True)\n",
    "        val_loader = DataLoader(val_dataset, batch_size=config.batch_size)\n",
    "\n",
    "        # Model creation based on config\n",
    "        layers = []\n",
    "        input_size = 2\n",
    "        for _ in range(config.num_layers):\n",
    "            layers.append(nn.Linear(input_size, config.neurons_per_layer))\n",
    "            layers.append(nn.Tanh())\n",
    "            input_size = config.neurons_per_layer\n",
    "        layers.append(nn.Linear(input_size, 1))\n",
    "        model = nn.Sequential(*layers)\n",
    "\n",
    "        criterion = nn.BCEWithLogitsLoss()\n",
    "        optimizer = optim.Adam(model.parameters(), lr=config.learning_rate)\n",
    "\n",
    "        # Training loop for dynamic number of epochs\n",
    "        for epoch in range(config.epochs):  # Use epochs from config\n",
    "            model.train()\n",
    "            running_loss = 0.0\n",
    "            for inputs, labels in train_loader:\n",
    "                optimizer.zero_grad()\n",
    "                outputs = model(inputs)\n",
    "                loss = criterion(outputs, labels)\n",
    "                loss.backward()\n",
    "                optimizer.step()\n",
    "                running_loss += loss.item()\n",
    "\n",
    "            # Validation\n",
    "            model.eval()\n",
    "            val_loss = 0.0\n",
    "            with torch.no_grad():\n",
    "                for inputs, labels in val_loader:\n",
    "                    outputs = model(inputs)\n",
    "                    loss = criterion(outputs, labels)\n",
    "                    val_loss += loss.item()\n",
    "\n",
    "            # Log metrics to W&B\n",
    "            wandb.log({\n",
    "                \"epoch\": epoch + 1,\n",
    "                \"train_loss\": running_loss / len(train_loader),\n",
    "                \"val_loss\": val_loss / len(val_loader)\n",
    "            })\n"
   ]
  },
  {
   "cell_type": "code",
   "execution_count": 18,
   "metadata": {},
   "outputs": [
    {
     "name": "stdout",
     "output_type": "stream",
     "text": [
      "Create sweep with ID: mxtzwhf9\n",
      "Sweep URL: https://wandb.ai/sdr366-university-of-copenhagen/noisy-xor-classification%20sweeping/sweeps/mxtzwhf9\n"
     ]
    },
    {
     "name": "stderr",
     "output_type": "stream",
     "text": [
      "\u001b[34m\u001b[1mwandb\u001b[0m: Agent Starting Run: jw408327 with config:\n",
      "\u001b[34m\u001b[1mwandb\u001b[0m: \tbatch_size: 16\n",
      "\u001b[34m\u001b[1mwandb\u001b[0m: \tepochs: 10\n",
      "\u001b[34m\u001b[1mwandb\u001b[0m: \tlearning_rate: 0.001\n",
      "\u001b[34m\u001b[1mwandb\u001b[0m: \tneurons_per_layer: 2\n",
      "\u001b[34m\u001b[1mwandb\u001b[0m: \tnum_layers: 3\n"
     ]
    },
    {
     "data": {
      "text/html": [
       "Tracking run with wandb version 0.18.7"
      ],
      "text/plain": [
       "<IPython.core.display.HTML object>"
      ]
     },
     "metadata": {},
     "output_type": "display_data"
    },
    {
     "data": {
      "text/html": [
       "Run data is saved locally in <code>c:\\Users\\wheus\\OneDrive - University of Copenhagen\\KU\\Kandidat\\2. aar\\Blok2\\DeepLearning\\AdvancedDeeplearning\\Assignment1\\wandb\\run-20241127_162338-jw408327</code>"
      ],
      "text/plain": [
       "<IPython.core.display.HTML object>"
      ]
     },
     "metadata": {},
     "output_type": "display_data"
    },
    {
     "data": {
      "text/html": [
       "Syncing run <strong><a href='https://wandb.ai/sdr366-university-of-copenhagen/noisy-xor-classification%20sweeping/runs/jw408327' target=\"_blank\">flowing-sweep-1</a></strong> to <a href='https://wandb.ai/sdr366-university-of-copenhagen/noisy-xor-classification%20sweeping' target=\"_blank\">Weights & Biases</a> (<a href='https://wandb.me/developer-guide' target=\"_blank\">docs</a>)<br/>Sweep page: <a href='https://wandb.ai/sdr366-university-of-copenhagen/noisy-xor-classification%20sweeping/sweeps/mxtzwhf9' target=\"_blank\">https://wandb.ai/sdr366-university-of-copenhagen/noisy-xor-classification%20sweeping/sweeps/mxtzwhf9</a>"
      ],
      "text/plain": [
       "<IPython.core.display.HTML object>"
      ]
     },
     "metadata": {},
     "output_type": "display_data"
    },
    {
     "data": {
      "text/html": [
       " View project at <a href='https://wandb.ai/sdr366-university-of-copenhagen/noisy-xor-classification%20sweeping' target=\"_blank\">https://wandb.ai/sdr366-university-of-copenhagen/noisy-xor-classification%20sweeping</a>"
      ],
      "text/plain": [
       "<IPython.core.display.HTML object>"
      ]
     },
     "metadata": {},
     "output_type": "display_data"
    },
    {
     "data": {
      "text/html": [
       " View sweep at <a href='https://wandb.ai/sdr366-university-of-copenhagen/noisy-xor-classification%20sweeping/sweeps/mxtzwhf9' target=\"_blank\">https://wandb.ai/sdr366-university-of-copenhagen/noisy-xor-classification%20sweeping/sweeps/mxtzwhf9</a>"
      ],
      "text/plain": [
       "<IPython.core.display.HTML object>"
      ]
     },
     "metadata": {},
     "output_type": "display_data"
    },
    {
     "data": {
      "text/html": [
       " View run at <a href='https://wandb.ai/sdr366-university-of-copenhagen/noisy-xor-classification%20sweeping/runs/jw408327' target=\"_blank\">https://wandb.ai/sdr366-university-of-copenhagen/noisy-xor-classification%20sweeping/runs/jw408327</a>"
      ],
      "text/plain": [
       "<IPython.core.display.HTML object>"
      ]
     },
     "metadata": {},
     "output_type": "display_data"
    },
    {
     "data": {
      "text/html": [
       "\n",
       "    <style>\n",
       "        .wandb-row {\n",
       "            display: flex;\n",
       "            flex-direction: row;\n",
       "            flex-wrap: wrap;\n",
       "            justify-content: flex-start;\n",
       "            width: 100%;\n",
       "        }\n",
       "        .wandb-col {\n",
       "            display: flex;\n",
       "            flex-direction: column;\n",
       "            flex-basis: 100%;\n",
       "            flex: 1;\n",
       "            padding: 10px;\n",
       "        }\n",
       "    </style>\n",
       "<div class=\"wandb-row\"><div class=\"wandb-col\"><h3>Run history:</h3><br/><table class=\"wandb\"><tr><td>epoch</td><td>▁▂▃▃▄▅▆▆▇█</td></tr><tr><td>train_loss</td><td>█████▇▆▅▃▁</td></tr><tr><td>val_loss</td><td>█████▇▆▄▂▁</td></tr></table><br/></div><div class=\"wandb-col\"><h3>Run summary:</h3><br/><table class=\"wandb\"><tr><td>epoch</td><td>10</td></tr><tr><td>train_loss</td><td>0.5961</td></tr><tr><td>val_loss</td><td>0.59501</td></tr></table><br/></div></div>"
      ],
      "text/plain": [
       "<IPython.core.display.HTML object>"
      ]
     },
     "metadata": {},
     "output_type": "display_data"
    },
    {
     "data": {
      "text/html": [
       " View run <strong style=\"color:#cdcd00\">flowing-sweep-1</strong> at: <a href='https://wandb.ai/sdr366-university-of-copenhagen/noisy-xor-classification%20sweeping/runs/jw408327' target=\"_blank\">https://wandb.ai/sdr366-university-of-copenhagen/noisy-xor-classification%20sweeping/runs/jw408327</a><br/> View project at: <a href='https://wandb.ai/sdr366-university-of-copenhagen/noisy-xor-classification%20sweeping' target=\"_blank\">https://wandb.ai/sdr366-university-of-copenhagen/noisy-xor-classification%20sweeping</a><br/>Synced 3 W&B file(s), 0 media file(s), 3 artifact file(s) and 0 other file(s)"
      ],
      "text/plain": [
       "<IPython.core.display.HTML object>"
      ]
     },
     "metadata": {},
     "output_type": "display_data"
    },
    {
     "data": {
      "text/html": [
       "Find logs at: <code>.\\wandb\\run-20241127_162338-jw408327\\logs</code>"
      ],
      "text/plain": [
       "<IPython.core.display.HTML object>"
      ]
     },
     "metadata": {},
     "output_type": "display_data"
    },
    {
     "name": "stderr",
     "output_type": "stream",
     "text": [
      "\u001b[34m\u001b[1mwandb\u001b[0m: Agent Starting Run: cx183myj with config:\n",
      "\u001b[34m\u001b[1mwandb\u001b[0m: \tbatch_size: 16\n",
      "\u001b[34m\u001b[1mwandb\u001b[0m: \tepochs: 10\n",
      "\u001b[34m\u001b[1mwandb\u001b[0m: \tlearning_rate: 0.01\n",
      "\u001b[34m\u001b[1mwandb\u001b[0m: \tneurons_per_layer: 2\n",
      "\u001b[34m\u001b[1mwandb\u001b[0m: \tnum_layers: 3\n"
     ]
    },
    {
     "data": {
      "text/html": [
       "Tracking run with wandb version 0.18.7"
      ],
      "text/plain": [
       "<IPython.core.display.HTML object>"
      ]
     },
     "metadata": {},
     "output_type": "display_data"
    },
    {
     "data": {
      "text/html": [
       "Run data is saved locally in <code>c:\\Users\\wheus\\OneDrive - University of Copenhagen\\KU\\Kandidat\\2. aar\\Blok2\\DeepLearning\\AdvancedDeeplearning\\Assignment1\\wandb\\run-20241127_162348-cx183myj</code>"
      ],
      "text/plain": [
       "<IPython.core.display.HTML object>"
      ]
     },
     "metadata": {},
     "output_type": "display_data"
    },
    {
     "data": {
      "text/html": [
       "Syncing run <strong><a href='https://wandb.ai/sdr366-university-of-copenhagen/noisy-xor-classification%20sweeping/runs/cx183myj' target=\"_blank\">prime-sweep-2</a></strong> to <a href='https://wandb.ai/sdr366-university-of-copenhagen/noisy-xor-classification%20sweeping' target=\"_blank\">Weights & Biases</a> (<a href='https://wandb.me/developer-guide' target=\"_blank\">docs</a>)<br/>Sweep page: <a href='https://wandb.ai/sdr366-university-of-copenhagen/noisy-xor-classification%20sweeping/sweeps/mxtzwhf9' target=\"_blank\">https://wandb.ai/sdr366-university-of-copenhagen/noisy-xor-classification%20sweeping/sweeps/mxtzwhf9</a>"
      ],
      "text/plain": [
       "<IPython.core.display.HTML object>"
      ]
     },
     "metadata": {},
     "output_type": "display_data"
    },
    {
     "data": {
      "text/html": [
       " View project at <a href='https://wandb.ai/sdr366-university-of-copenhagen/noisy-xor-classification%20sweeping' target=\"_blank\">https://wandb.ai/sdr366-university-of-copenhagen/noisy-xor-classification%20sweeping</a>"
      ],
      "text/plain": [
       "<IPython.core.display.HTML object>"
      ]
     },
     "metadata": {},
     "output_type": "display_data"
    },
    {
     "data": {
      "text/html": [
       " View sweep at <a href='https://wandb.ai/sdr366-university-of-copenhagen/noisy-xor-classification%20sweeping/sweeps/mxtzwhf9' target=\"_blank\">https://wandb.ai/sdr366-university-of-copenhagen/noisy-xor-classification%20sweeping/sweeps/mxtzwhf9</a>"
      ],
      "text/plain": [
       "<IPython.core.display.HTML object>"
      ]
     },
     "metadata": {},
     "output_type": "display_data"
    },
    {
     "data": {
      "text/html": [
       " View run at <a href='https://wandb.ai/sdr366-university-of-copenhagen/noisy-xor-classification%20sweeping/runs/cx183myj' target=\"_blank\">https://wandb.ai/sdr366-university-of-copenhagen/noisy-xor-classification%20sweeping/runs/cx183myj</a>"
      ],
      "text/plain": [
       "<IPython.core.display.HTML object>"
      ]
     },
     "metadata": {},
     "output_type": "display_data"
    },
    {
     "data": {
      "text/html": [
       "\n",
       "    <style>\n",
       "        .wandb-row {\n",
       "            display: flex;\n",
       "            flex-direction: row;\n",
       "            flex-wrap: wrap;\n",
       "            justify-content: flex-start;\n",
       "            width: 100%;\n",
       "        }\n",
       "        .wandb-col {\n",
       "            display: flex;\n",
       "            flex-direction: column;\n",
       "            flex-basis: 100%;\n",
       "            flex: 1;\n",
       "            padding: 10px;\n",
       "        }\n",
       "    </style>\n",
       "<div class=\"wandb-row\"><div class=\"wandb-col\"><h3>Run history:</h3><br/><table class=\"wandb\"><tr><td>epoch</td><td>▁▂▃▃▄▅▆▆▇█</td></tr><tr><td>train_loss</td><td>██████▆▅▁▁</td></tr><tr><td>val_loss</td><td>█████▇▆▂▁▁</td></tr></table><br/></div><div class=\"wandb-col\"><h3>Run summary:</h3><br/><table class=\"wandb\"><tr><td>epoch</td><td>10</td></tr><tr><td>train_loss</td><td>0.03246</td></tr><tr><td>val_loss</td><td>0.0244</td></tr></table><br/></div></div>"
      ],
      "text/plain": [
       "<IPython.core.display.HTML object>"
      ]
     },
     "metadata": {},
     "output_type": "display_data"
    },
    {
     "data": {
      "text/html": [
       " View run <strong style=\"color:#cdcd00\">prime-sweep-2</strong> at: <a href='https://wandb.ai/sdr366-university-of-copenhagen/noisy-xor-classification%20sweeping/runs/cx183myj' target=\"_blank\">https://wandb.ai/sdr366-university-of-copenhagen/noisy-xor-classification%20sweeping/runs/cx183myj</a><br/> View project at: <a href='https://wandb.ai/sdr366-university-of-copenhagen/noisy-xor-classification%20sweeping' target=\"_blank\">https://wandb.ai/sdr366-university-of-copenhagen/noisy-xor-classification%20sweeping</a><br/>Synced 4 W&B file(s), 0 media file(s), 0 artifact file(s) and 0 other file(s)"
      ],
      "text/plain": [
       "<IPython.core.display.HTML object>"
      ]
     },
     "metadata": {},
     "output_type": "display_data"
    },
    {
     "data": {
      "text/html": [
       "Find logs at: <code>.\\wandb\\run-20241127_162348-cx183myj\\logs</code>"
      ],
      "text/plain": [
       "<IPython.core.display.HTML object>"
      ]
     },
     "metadata": {},
     "output_type": "display_data"
    },
    {
     "name": "stderr",
     "output_type": "stream",
     "text": [
      "\u001b[34m\u001b[1mwandb\u001b[0m: Agent Starting Run: 5v33nkke with config:\n",
      "\u001b[34m\u001b[1mwandb\u001b[0m: \tbatch_size: 16\n",
      "\u001b[34m\u001b[1mwandb\u001b[0m: \tepochs: 10\n",
      "\u001b[34m\u001b[1mwandb\u001b[0m: \tlearning_rate: 0.1\n",
      "\u001b[34m\u001b[1mwandb\u001b[0m: \tneurons_per_layer: 2\n",
      "\u001b[34m\u001b[1mwandb\u001b[0m: \tnum_layers: 3\n"
     ]
    },
    {
     "data": {
      "text/html": [
       "Tracking run with wandb version 0.18.7"
      ],
      "text/plain": [
       "<IPython.core.display.HTML object>"
      ]
     },
     "metadata": {},
     "output_type": "display_data"
    },
    {
     "data": {
      "text/html": [
       "Run data is saved locally in <code>c:\\Users\\wheus\\OneDrive - University of Copenhagen\\KU\\Kandidat\\2. aar\\Blok2\\DeepLearning\\AdvancedDeeplearning\\Assignment1\\wandb\\run-20241127_162359-5v33nkke</code>"
      ],
      "text/plain": [
       "<IPython.core.display.HTML object>"
      ]
     },
     "metadata": {},
     "output_type": "display_data"
    },
    {
     "data": {
      "text/html": [
       "Syncing run <strong><a href='https://wandb.ai/sdr366-university-of-copenhagen/noisy-xor-classification%20sweeping/runs/5v33nkke' target=\"_blank\">honest-sweep-3</a></strong> to <a href='https://wandb.ai/sdr366-university-of-copenhagen/noisy-xor-classification%20sweeping' target=\"_blank\">Weights & Biases</a> (<a href='https://wandb.me/developer-guide' target=\"_blank\">docs</a>)<br/>Sweep page: <a href='https://wandb.ai/sdr366-university-of-copenhagen/noisy-xor-classification%20sweeping/sweeps/mxtzwhf9' target=\"_blank\">https://wandb.ai/sdr366-university-of-copenhagen/noisy-xor-classification%20sweeping/sweeps/mxtzwhf9</a>"
      ],
      "text/plain": [
       "<IPython.core.display.HTML object>"
      ]
     },
     "metadata": {},
     "output_type": "display_data"
    },
    {
     "data": {
      "text/html": [
       " View project at <a href='https://wandb.ai/sdr366-university-of-copenhagen/noisy-xor-classification%20sweeping' target=\"_blank\">https://wandb.ai/sdr366-university-of-copenhagen/noisy-xor-classification%20sweeping</a>"
      ],
      "text/plain": [
       "<IPython.core.display.HTML object>"
      ]
     },
     "metadata": {},
     "output_type": "display_data"
    },
    {
     "data": {
      "text/html": [
       " View sweep at <a href='https://wandb.ai/sdr366-university-of-copenhagen/noisy-xor-classification%20sweeping/sweeps/mxtzwhf9' target=\"_blank\">https://wandb.ai/sdr366-university-of-copenhagen/noisy-xor-classification%20sweeping/sweeps/mxtzwhf9</a>"
      ],
      "text/plain": [
       "<IPython.core.display.HTML object>"
      ]
     },
     "metadata": {},
     "output_type": "display_data"
    },
    {
     "data": {
      "text/html": [
       " View run at <a href='https://wandb.ai/sdr366-university-of-copenhagen/noisy-xor-classification%20sweeping/runs/5v33nkke' target=\"_blank\">https://wandb.ai/sdr366-university-of-copenhagen/noisy-xor-classification%20sweeping/runs/5v33nkke</a>"
      ],
      "text/plain": [
       "<IPython.core.display.HTML object>"
      ]
     },
     "metadata": {},
     "output_type": "display_data"
    },
    {
     "data": {
      "text/html": [
       "\n",
       "    <style>\n",
       "        .wandb-row {\n",
       "            display: flex;\n",
       "            flex-direction: row;\n",
       "            flex-wrap: wrap;\n",
       "            justify-content: flex-start;\n",
       "            width: 100%;\n",
       "        }\n",
       "        .wandb-col {\n",
       "            display: flex;\n",
       "            flex-direction: column;\n",
       "            flex-basis: 100%;\n",
       "            flex: 1;\n",
       "            padding: 10px;\n",
       "        }\n",
       "    </style>\n",
       "<div class=\"wandb-row\"><div class=\"wandb-col\"><h3>Run history:</h3><br/><table class=\"wandb\"><tr><td>epoch</td><td>▁▂▃▃▄▅▆▆▇█</td></tr><tr><td>train_loss</td><td>█▂▁▁▁▁▁▁▁▁</td></tr><tr><td>val_loss</td><td>█▁▂▂▂▂▂▂▂▂</td></tr></table><br/></div><div class=\"wandb-col\"><h3>Run summary:</h3><br/><table class=\"wandb\"><tr><td>epoch</td><td>10</td></tr><tr><td>train_loss</td><td>0.00025</td></tr><tr><td>val_loss</td><td>0.02522</td></tr></table><br/></div></div>"
      ],
      "text/plain": [
       "<IPython.core.display.HTML object>"
      ]
     },
     "metadata": {},
     "output_type": "display_data"
    },
    {
     "data": {
      "text/html": [
       " View run <strong style=\"color:#cdcd00\">honest-sweep-3</strong> at: <a href='https://wandb.ai/sdr366-university-of-copenhagen/noisy-xor-classification%20sweeping/runs/5v33nkke' target=\"_blank\">https://wandb.ai/sdr366-university-of-copenhagen/noisy-xor-classification%20sweeping/runs/5v33nkke</a><br/> View project at: <a href='https://wandb.ai/sdr366-university-of-copenhagen/noisy-xor-classification%20sweeping' target=\"_blank\">https://wandb.ai/sdr366-university-of-copenhagen/noisy-xor-classification%20sweeping</a><br/>Synced 4 W&B file(s), 0 media file(s), 0 artifact file(s) and 0 other file(s)"
      ],
      "text/plain": [
       "<IPython.core.display.HTML object>"
      ]
     },
     "metadata": {},
     "output_type": "display_data"
    },
    {
     "data": {
      "text/html": [
       "Find logs at: <code>.\\wandb\\run-20241127_162359-5v33nkke\\logs</code>"
      ],
      "text/plain": [
       "<IPython.core.display.HTML object>"
      ]
     },
     "metadata": {},
     "output_type": "display_data"
    },
    {
     "name": "stderr",
     "output_type": "stream",
     "text": [
      "\u001b[34m\u001b[1mwandb\u001b[0m: Agent Starting Run: yti2v7kf with config:\n",
      "\u001b[34m\u001b[1mwandb\u001b[0m: \tbatch_size: 16\n",
      "\u001b[34m\u001b[1mwandb\u001b[0m: \tepochs: 25\n",
      "\u001b[34m\u001b[1mwandb\u001b[0m: \tlearning_rate: 0.001\n",
      "\u001b[34m\u001b[1mwandb\u001b[0m: \tneurons_per_layer: 2\n",
      "\u001b[34m\u001b[1mwandb\u001b[0m: \tnum_layers: 3\n"
     ]
    },
    {
     "data": {
      "text/html": [
       "Tracking run with wandb version 0.18.7"
      ],
      "text/plain": [
       "<IPython.core.display.HTML object>"
      ]
     },
     "metadata": {},
     "output_type": "display_data"
    },
    {
     "data": {
      "text/html": [
       "Run data is saved locally in <code>c:\\Users\\wheus\\OneDrive - University of Copenhagen\\KU\\Kandidat\\2. aar\\Blok2\\DeepLearning\\AdvancedDeeplearning\\Assignment1\\wandb\\run-20241127_162409-yti2v7kf</code>"
      ],
      "text/plain": [
       "<IPython.core.display.HTML object>"
      ]
     },
     "metadata": {},
     "output_type": "display_data"
    },
    {
     "data": {
      "text/html": [
       "Syncing run <strong><a href='https://wandb.ai/sdr366-university-of-copenhagen/noisy-xor-classification%20sweeping/runs/yti2v7kf' target=\"_blank\">sunny-sweep-4</a></strong> to <a href='https://wandb.ai/sdr366-university-of-copenhagen/noisy-xor-classification%20sweeping' target=\"_blank\">Weights & Biases</a> (<a href='https://wandb.me/developer-guide' target=\"_blank\">docs</a>)<br/>Sweep page: <a href='https://wandb.ai/sdr366-university-of-copenhagen/noisy-xor-classification%20sweeping/sweeps/mxtzwhf9' target=\"_blank\">https://wandb.ai/sdr366-university-of-copenhagen/noisy-xor-classification%20sweeping/sweeps/mxtzwhf9</a>"
      ],
      "text/plain": [
       "<IPython.core.display.HTML object>"
      ]
     },
     "metadata": {},
     "output_type": "display_data"
    },
    {
     "data": {
      "text/html": [
       " View project at <a href='https://wandb.ai/sdr366-university-of-copenhagen/noisy-xor-classification%20sweeping' target=\"_blank\">https://wandb.ai/sdr366-university-of-copenhagen/noisy-xor-classification%20sweeping</a>"
      ],
      "text/plain": [
       "<IPython.core.display.HTML object>"
      ]
     },
     "metadata": {},
     "output_type": "display_data"
    },
    {
     "data": {
      "text/html": [
       " View sweep at <a href='https://wandb.ai/sdr366-university-of-copenhagen/noisy-xor-classification%20sweeping/sweeps/mxtzwhf9' target=\"_blank\">https://wandb.ai/sdr366-university-of-copenhagen/noisy-xor-classification%20sweeping/sweeps/mxtzwhf9</a>"
      ],
      "text/plain": [
       "<IPython.core.display.HTML object>"
      ]
     },
     "metadata": {},
     "output_type": "display_data"
    },
    {
     "data": {
      "text/html": [
       " View run at <a href='https://wandb.ai/sdr366-university-of-copenhagen/noisy-xor-classification%20sweeping/runs/yti2v7kf' target=\"_blank\">https://wandb.ai/sdr366-university-of-copenhagen/noisy-xor-classification%20sweeping/runs/yti2v7kf</a>"
      ],
      "text/plain": [
       "<IPython.core.display.HTML object>"
      ]
     },
     "metadata": {},
     "output_type": "display_data"
    },
    {
     "data": {
      "text/html": [
       "\n",
       "    <style>\n",
       "        .wandb-row {\n",
       "            display: flex;\n",
       "            flex-direction: row;\n",
       "            flex-wrap: wrap;\n",
       "            justify-content: flex-start;\n",
       "            width: 100%;\n",
       "        }\n",
       "        .wandb-col {\n",
       "            display: flex;\n",
       "            flex-direction: column;\n",
       "            flex-basis: 100%;\n",
       "            flex: 1;\n",
       "            padding: 10px;\n",
       "        }\n",
       "    </style>\n",
       "<div class=\"wandb-row\"><div class=\"wandb-col\"><h3>Run history:</h3><br/><table class=\"wandb\"><tr><td>epoch</td><td>▁▁▂▂▂▂▃▃▃▄▄▄▅▅▅▅▆▆▆▇▇▇▇██</td></tr><tr><td>train_loss</td><td>████████▇▇▆▆▅▅▄▄▄▃▃▂▂▂▁▁▁</td></tr><tr><td>val_loss</td><td>████████▇▇▆▆▅▅▄▄▃▃▃▂▂▂▁▁▁</td></tr></table><br/></div><div class=\"wandb-col\"><h3>Run summary:</h3><br/><table class=\"wandb\"><tr><td>epoch</td><td>25</td></tr><tr><td>train_loss</td><td>0.24984</td></tr><tr><td>val_loss</td><td>0.24224</td></tr></table><br/></div></div>"
      ],
      "text/plain": [
       "<IPython.core.display.HTML object>"
      ]
     },
     "metadata": {},
     "output_type": "display_data"
    },
    {
     "data": {
      "text/html": [
       " View run <strong style=\"color:#cdcd00\">sunny-sweep-4</strong> at: <a href='https://wandb.ai/sdr366-university-of-copenhagen/noisy-xor-classification%20sweeping/runs/yti2v7kf' target=\"_blank\">https://wandb.ai/sdr366-university-of-copenhagen/noisy-xor-classification%20sweeping/runs/yti2v7kf</a><br/> View project at: <a href='https://wandb.ai/sdr366-university-of-copenhagen/noisy-xor-classification%20sweeping' target=\"_blank\">https://wandb.ai/sdr366-university-of-copenhagen/noisy-xor-classification%20sweeping</a><br/>Synced 4 W&B file(s), 0 media file(s), 0 artifact file(s) and 0 other file(s)"
      ],
      "text/plain": [
       "<IPython.core.display.HTML object>"
      ]
     },
     "metadata": {},
     "output_type": "display_data"
    },
    {
     "data": {
      "text/html": [
       "Find logs at: <code>.\\wandb\\run-20241127_162409-yti2v7kf\\logs</code>"
      ],
      "text/plain": [
       "<IPython.core.display.HTML object>"
      ]
     },
     "metadata": {},
     "output_type": "display_data"
    },
    {
     "name": "stderr",
     "output_type": "stream",
     "text": [
      "\u001b[34m\u001b[1mwandb\u001b[0m: Agent Starting Run: y75eblhn with config:\n",
      "\u001b[34m\u001b[1mwandb\u001b[0m: \tbatch_size: 16\n",
      "\u001b[34m\u001b[1mwandb\u001b[0m: \tepochs: 25\n",
      "\u001b[34m\u001b[1mwandb\u001b[0m: \tlearning_rate: 0.01\n",
      "\u001b[34m\u001b[1mwandb\u001b[0m: \tneurons_per_layer: 2\n",
      "\u001b[34m\u001b[1mwandb\u001b[0m: \tnum_layers: 3\n"
     ]
    },
    {
     "data": {
      "text/html": [
       "Tracking run with wandb version 0.18.7"
      ],
      "text/plain": [
       "<IPython.core.display.HTML object>"
      ]
     },
     "metadata": {},
     "output_type": "display_data"
    },
    {
     "data": {
      "text/html": [
       "Run data is saved locally in <code>c:\\Users\\wheus\\OneDrive - University of Copenhagen\\KU\\Kandidat\\2. aar\\Blok2\\DeepLearning\\AdvancedDeeplearning\\Assignment1\\wandb\\run-20241127_162425-y75eblhn</code>"
      ],
      "text/plain": [
       "<IPython.core.display.HTML object>"
      ]
     },
     "metadata": {},
     "output_type": "display_data"
    },
    {
     "data": {
      "text/html": [
       "Syncing run <strong><a href='https://wandb.ai/sdr366-university-of-copenhagen/noisy-xor-classification%20sweeping/runs/y75eblhn' target=\"_blank\">stoic-sweep-5</a></strong> to <a href='https://wandb.ai/sdr366-university-of-copenhagen/noisy-xor-classification%20sweeping' target=\"_blank\">Weights & Biases</a> (<a href='https://wandb.me/developer-guide' target=\"_blank\">docs</a>)<br/>Sweep page: <a href='https://wandb.ai/sdr366-university-of-copenhagen/noisy-xor-classification%20sweeping/sweeps/mxtzwhf9' target=\"_blank\">https://wandb.ai/sdr366-university-of-copenhagen/noisy-xor-classification%20sweeping/sweeps/mxtzwhf9</a>"
      ],
      "text/plain": [
       "<IPython.core.display.HTML object>"
      ]
     },
     "metadata": {},
     "output_type": "display_data"
    },
    {
     "data": {
      "text/html": [
       " View project at <a href='https://wandb.ai/sdr366-university-of-copenhagen/noisy-xor-classification%20sweeping' target=\"_blank\">https://wandb.ai/sdr366-university-of-copenhagen/noisy-xor-classification%20sweeping</a>"
      ],
      "text/plain": [
       "<IPython.core.display.HTML object>"
      ]
     },
     "metadata": {},
     "output_type": "display_data"
    },
    {
     "data": {
      "text/html": [
       " View sweep at <a href='https://wandb.ai/sdr366-university-of-copenhagen/noisy-xor-classification%20sweeping/sweeps/mxtzwhf9' target=\"_blank\">https://wandb.ai/sdr366-university-of-copenhagen/noisy-xor-classification%20sweeping/sweeps/mxtzwhf9</a>"
      ],
      "text/plain": [
       "<IPython.core.display.HTML object>"
      ]
     },
     "metadata": {},
     "output_type": "display_data"
    },
    {
     "data": {
      "text/html": [
       " View run at <a href='https://wandb.ai/sdr366-university-of-copenhagen/noisy-xor-classification%20sweeping/runs/y75eblhn' target=\"_blank\">https://wandb.ai/sdr366-university-of-copenhagen/noisy-xor-classification%20sweeping/runs/y75eblhn</a>"
      ],
      "text/plain": [
       "<IPython.core.display.HTML object>"
      ]
     },
     "metadata": {},
     "output_type": "display_data"
    },
    {
     "data": {
      "text/html": [
       "\n",
       "    <style>\n",
       "        .wandb-row {\n",
       "            display: flex;\n",
       "            flex-direction: row;\n",
       "            flex-wrap: wrap;\n",
       "            justify-content: flex-start;\n",
       "            width: 100%;\n",
       "        }\n",
       "        .wandb-col {\n",
       "            display: flex;\n",
       "            flex-direction: column;\n",
       "            flex-basis: 100%;\n",
       "            flex: 1;\n",
       "            padding: 10px;\n",
       "        }\n",
       "    </style>\n",
       "<div class=\"wandb-row\"><div class=\"wandb-col\"><h3>Run history:</h3><br/><table class=\"wandb\"><tr><td>epoch</td><td>▁▁▂▂▂▂▃▃▃▄▄▄▅▅▅▅▆▆▆▇▇▇▇██</td></tr><tr><td>train_loss</td><td>█▄▂▂▁▁▁▁▁▁▁▁▁▁▁▁▁▁▁▁▁▁▁▁▁</td></tr><tr><td>val_loss</td><td>█▂▂▂▁▁▁▁▁▁▁▁▁▁▁▁▁▁▁▁▁▁▁▁▁</td></tr></table><br/></div><div class=\"wandb-col\"><h3>Run summary:</h3><br/><table class=\"wandb\"><tr><td>epoch</td><td>25</td></tr><tr><td>train_loss</td><td>0.47705</td></tr><tr><td>val_loss</td><td>0.48944</td></tr></table><br/></div></div>"
      ],
      "text/plain": [
       "<IPython.core.display.HTML object>"
      ]
     },
     "metadata": {},
     "output_type": "display_data"
    },
    {
     "data": {
      "text/html": [
       " View run <strong style=\"color:#cdcd00\">stoic-sweep-5</strong> at: <a href='https://wandb.ai/sdr366-university-of-copenhagen/noisy-xor-classification%20sweeping/runs/y75eblhn' target=\"_blank\">https://wandb.ai/sdr366-university-of-copenhagen/noisy-xor-classification%20sweeping/runs/y75eblhn</a><br/> View project at: <a href='https://wandb.ai/sdr366-university-of-copenhagen/noisy-xor-classification%20sweeping' target=\"_blank\">https://wandb.ai/sdr366-university-of-copenhagen/noisy-xor-classification%20sweeping</a><br/>Synced 4 W&B file(s), 0 media file(s), 0 artifact file(s) and 0 other file(s)"
      ],
      "text/plain": [
       "<IPython.core.display.HTML object>"
      ]
     },
     "metadata": {},
     "output_type": "display_data"
    },
    {
     "data": {
      "text/html": [
       "Find logs at: <code>.\\wandb\\run-20241127_162425-y75eblhn\\logs</code>"
      ],
      "text/plain": [
       "<IPython.core.display.HTML object>"
      ]
     },
     "metadata": {},
     "output_type": "display_data"
    },
    {
     "name": "stderr",
     "output_type": "stream",
     "text": [
      "\u001b[34m\u001b[1mwandb\u001b[0m: Agent Starting Run: 5mlioxs4 with config:\n",
      "\u001b[34m\u001b[1mwandb\u001b[0m: \tbatch_size: 16\n",
      "\u001b[34m\u001b[1mwandb\u001b[0m: \tepochs: 25\n",
      "\u001b[34m\u001b[1mwandb\u001b[0m: \tlearning_rate: 0.1\n",
      "\u001b[34m\u001b[1mwandb\u001b[0m: \tneurons_per_layer: 2\n",
      "\u001b[34m\u001b[1mwandb\u001b[0m: \tnum_layers: 3\n"
     ]
    },
    {
     "data": {
      "text/html": [
       "Tracking run with wandb version 0.18.7"
      ],
      "text/plain": [
       "<IPython.core.display.HTML object>"
      ]
     },
     "metadata": {},
     "output_type": "display_data"
    },
    {
     "data": {
      "text/html": [
       "Run data is saved locally in <code>c:\\Users\\wheus\\OneDrive - University of Copenhagen\\KU\\Kandidat\\2. aar\\Blok2\\DeepLearning\\AdvancedDeeplearning\\Assignment1\\wandb\\run-20241127_162441-5mlioxs4</code>"
      ],
      "text/plain": [
       "<IPython.core.display.HTML object>"
      ]
     },
     "metadata": {},
     "output_type": "display_data"
    },
    {
     "data": {
      "text/html": [
       "Syncing run <strong><a href='https://wandb.ai/sdr366-university-of-copenhagen/noisy-xor-classification%20sweeping/runs/5mlioxs4' target=\"_blank\">splendid-sweep-6</a></strong> to <a href='https://wandb.ai/sdr366-university-of-copenhagen/noisy-xor-classification%20sweeping' target=\"_blank\">Weights & Biases</a> (<a href='https://wandb.me/developer-guide' target=\"_blank\">docs</a>)<br/>Sweep page: <a href='https://wandb.ai/sdr366-university-of-copenhagen/noisy-xor-classification%20sweeping/sweeps/mxtzwhf9' target=\"_blank\">https://wandb.ai/sdr366-university-of-copenhagen/noisy-xor-classification%20sweeping/sweeps/mxtzwhf9</a>"
      ],
      "text/plain": [
       "<IPython.core.display.HTML object>"
      ]
     },
     "metadata": {},
     "output_type": "display_data"
    },
    {
     "data": {
      "text/html": [
       " View project at <a href='https://wandb.ai/sdr366-university-of-copenhagen/noisy-xor-classification%20sweeping' target=\"_blank\">https://wandb.ai/sdr366-university-of-copenhagen/noisy-xor-classification%20sweeping</a>"
      ],
      "text/plain": [
       "<IPython.core.display.HTML object>"
      ]
     },
     "metadata": {},
     "output_type": "display_data"
    },
    {
     "data": {
      "text/html": [
       " View sweep at <a href='https://wandb.ai/sdr366-university-of-copenhagen/noisy-xor-classification%20sweeping/sweeps/mxtzwhf9' target=\"_blank\">https://wandb.ai/sdr366-university-of-copenhagen/noisy-xor-classification%20sweeping/sweeps/mxtzwhf9</a>"
      ],
      "text/plain": [
       "<IPython.core.display.HTML object>"
      ]
     },
     "metadata": {},
     "output_type": "display_data"
    },
    {
     "data": {
      "text/html": [
       " View run at <a href='https://wandb.ai/sdr366-university-of-copenhagen/noisy-xor-classification%20sweeping/runs/5mlioxs4' target=\"_blank\">https://wandb.ai/sdr366-university-of-copenhagen/noisy-xor-classification%20sweeping/runs/5mlioxs4</a>"
      ],
      "text/plain": [
       "<IPython.core.display.HTML object>"
      ]
     },
     "metadata": {},
     "output_type": "display_data"
    },
    {
     "data": {
      "text/html": [
       "\n",
       "    <style>\n",
       "        .wandb-row {\n",
       "            display: flex;\n",
       "            flex-direction: row;\n",
       "            flex-wrap: wrap;\n",
       "            justify-content: flex-start;\n",
       "            width: 100%;\n",
       "        }\n",
       "        .wandb-col {\n",
       "            display: flex;\n",
       "            flex-direction: column;\n",
       "            flex-basis: 100%;\n",
       "            flex: 1;\n",
       "            padding: 10px;\n",
       "        }\n",
       "    </style>\n",
       "<div class=\"wandb-row\"><div class=\"wandb-col\"><h3>Run history:</h3><br/><table class=\"wandb\"><tr><td>epoch</td><td>▁▁▂▂▂▂▃▃▃▄▄▄▅▅▅▅▆▆▆▇▇▇▇██</td></tr><tr><td>train_loss</td><td>█▆▁▇▆▆▆▆▆▆▆▆▆▆▆▆▆▆▆▆▆▆▆▆▆</td></tr><tr><td>val_loss</td><td>▅▂▂▃▂▁▁█▄▆▂▁▁▃▂▃▆▂▂▂▂▃▁▃▁</td></tr></table><br/></div><div class=\"wandb-col\"><h3>Run summary:</h3><br/><table class=\"wandb\"><tr><td>epoch</td><td>25</td></tr><tr><td>train_loss</td><td>0.49005</td></tr><tr><td>val_loss</td><td>0.48722</td></tr></table><br/></div></div>"
      ],
      "text/plain": [
       "<IPython.core.display.HTML object>"
      ]
     },
     "metadata": {},
     "output_type": "display_data"
    },
    {
     "data": {
      "text/html": [
       " View run <strong style=\"color:#cdcd00\">splendid-sweep-6</strong> at: <a href='https://wandb.ai/sdr366-university-of-copenhagen/noisy-xor-classification%20sweeping/runs/5mlioxs4' target=\"_blank\">https://wandb.ai/sdr366-university-of-copenhagen/noisy-xor-classification%20sweeping/runs/5mlioxs4</a><br/> View project at: <a href='https://wandb.ai/sdr366-university-of-copenhagen/noisy-xor-classification%20sweeping' target=\"_blank\">https://wandb.ai/sdr366-university-of-copenhagen/noisy-xor-classification%20sweeping</a><br/>Synced 4 W&B file(s), 0 media file(s), 0 artifact file(s) and 0 other file(s)"
      ],
      "text/plain": [
       "<IPython.core.display.HTML object>"
      ]
     },
     "metadata": {},
     "output_type": "display_data"
    },
    {
     "data": {
      "text/html": [
       "Find logs at: <code>.\\wandb\\run-20241127_162441-5mlioxs4\\logs</code>"
      ],
      "text/plain": [
       "<IPython.core.display.HTML object>"
      ]
     },
     "metadata": {},
     "output_type": "display_data"
    },
    {
     "name": "stderr",
     "output_type": "stream",
     "text": [
      "\u001b[34m\u001b[1mwandb\u001b[0m: Agent Starting Run: cr8gztng with config:\n",
      "\u001b[34m\u001b[1mwandb\u001b[0m: \tbatch_size: 16\n",
      "\u001b[34m\u001b[1mwandb\u001b[0m: \tepochs: 50\n",
      "\u001b[34m\u001b[1mwandb\u001b[0m: \tlearning_rate: 0.001\n",
      "\u001b[34m\u001b[1mwandb\u001b[0m: \tneurons_per_layer: 2\n",
      "\u001b[34m\u001b[1mwandb\u001b[0m: \tnum_layers: 3\n"
     ]
    },
    {
     "data": {
      "text/html": [
       "Tracking run with wandb version 0.18.7"
      ],
      "text/plain": [
       "<IPython.core.display.HTML object>"
      ]
     },
     "metadata": {},
     "output_type": "display_data"
    },
    {
     "data": {
      "text/html": [
       "Run data is saved locally in <code>c:\\Users\\wheus\\OneDrive - University of Copenhagen\\KU\\Kandidat\\2. aar\\Blok2\\DeepLearning\\AdvancedDeeplearning\\Assignment1\\wandb\\run-20241127_162452-cr8gztng</code>"
      ],
      "text/plain": [
       "<IPython.core.display.HTML object>"
      ]
     },
     "metadata": {},
     "output_type": "display_data"
    },
    {
     "data": {
      "text/html": [
       "Syncing run <strong><a href='https://wandb.ai/sdr366-university-of-copenhagen/noisy-xor-classification%20sweeping/runs/cr8gztng' target=\"_blank\">ancient-sweep-7</a></strong> to <a href='https://wandb.ai/sdr366-university-of-copenhagen/noisy-xor-classification%20sweeping' target=\"_blank\">Weights & Biases</a> (<a href='https://wandb.me/developer-guide' target=\"_blank\">docs</a>)<br/>Sweep page: <a href='https://wandb.ai/sdr366-university-of-copenhagen/noisy-xor-classification%20sweeping/sweeps/mxtzwhf9' target=\"_blank\">https://wandb.ai/sdr366-university-of-copenhagen/noisy-xor-classification%20sweeping/sweeps/mxtzwhf9</a>"
      ],
      "text/plain": [
       "<IPython.core.display.HTML object>"
      ]
     },
     "metadata": {},
     "output_type": "display_data"
    },
    {
     "data": {
      "text/html": [
       " View project at <a href='https://wandb.ai/sdr366-university-of-copenhagen/noisy-xor-classification%20sweeping' target=\"_blank\">https://wandb.ai/sdr366-university-of-copenhagen/noisy-xor-classification%20sweeping</a>"
      ],
      "text/plain": [
       "<IPython.core.display.HTML object>"
      ]
     },
     "metadata": {},
     "output_type": "display_data"
    },
    {
     "data": {
      "text/html": [
       " View sweep at <a href='https://wandb.ai/sdr366-university-of-copenhagen/noisy-xor-classification%20sweeping/sweeps/mxtzwhf9' target=\"_blank\">https://wandb.ai/sdr366-university-of-copenhagen/noisy-xor-classification%20sweeping/sweeps/mxtzwhf9</a>"
      ],
      "text/plain": [
       "<IPython.core.display.HTML object>"
      ]
     },
     "metadata": {},
     "output_type": "display_data"
    },
    {
     "data": {
      "text/html": [
       " View run at <a href='https://wandb.ai/sdr366-university-of-copenhagen/noisy-xor-classification%20sweeping/runs/cr8gztng' target=\"_blank\">https://wandb.ai/sdr366-university-of-copenhagen/noisy-xor-classification%20sweeping/runs/cr8gztng</a>"
      ],
      "text/plain": [
       "<IPython.core.display.HTML object>"
      ]
     },
     "metadata": {},
     "output_type": "display_data"
    },
    {
     "data": {
      "text/html": [
       "\n",
       "    <style>\n",
       "        .wandb-row {\n",
       "            display: flex;\n",
       "            flex-direction: row;\n",
       "            flex-wrap: wrap;\n",
       "            justify-content: flex-start;\n",
       "            width: 100%;\n",
       "        }\n",
       "        .wandb-col {\n",
       "            display: flex;\n",
       "            flex-direction: column;\n",
       "            flex-basis: 100%;\n",
       "            flex: 1;\n",
       "            padding: 10px;\n",
       "        }\n",
       "    </style>\n",
       "<div class=\"wandb-row\"><div class=\"wandb-col\"><h3>Run history:</h3><br/><table class=\"wandb\"><tr><td>epoch</td><td>▁▁▁▁▂▂▂▂▂▂▃▃▃▃▃▄▄▄▄▄▅▅▅▅▅▆▆▆▆▆▆▇▇▇▇▇▇███</td></tr><tr><td>train_loss</td><td>█▇▇▇▆▅▄▄▄▄▃▃▃▃▃▃▃▃▃▃▃▃▃▃▃▃▃▃▃▃▃▃▃▃▂▂▂▂▁▁</td></tr><tr><td>val_loss</td><td>███▇▇▆▅▄▄▄▄▄▄▄▄▃▃▃▃▃▃▃▃▃▃▃▃▃▃▃▃▃▃▃▃▂▂▂▁▁</td></tr></table><br/></div><div class=\"wandb-col\"><h3>Run summary:</h3><br/><table class=\"wandb\"><tr><td>epoch</td><td>50</td></tr><tr><td>train_loss</td><td>0.41768</td></tr><tr><td>val_loss</td><td>0.41353</td></tr></table><br/></div></div>"
      ],
      "text/plain": [
       "<IPython.core.display.HTML object>"
      ]
     },
     "metadata": {},
     "output_type": "display_data"
    },
    {
     "data": {
      "text/html": [
       " View run <strong style=\"color:#cdcd00\">ancient-sweep-7</strong> at: <a href='https://wandb.ai/sdr366-university-of-copenhagen/noisy-xor-classification%20sweeping/runs/cr8gztng' target=\"_blank\">https://wandb.ai/sdr366-university-of-copenhagen/noisy-xor-classification%20sweeping/runs/cr8gztng</a><br/> View project at: <a href='https://wandb.ai/sdr366-university-of-copenhagen/noisy-xor-classification%20sweeping' target=\"_blank\">https://wandb.ai/sdr366-university-of-copenhagen/noisy-xor-classification%20sweeping</a><br/>Synced 4 W&B file(s), 0 media file(s), 0 artifact file(s) and 0 other file(s)"
      ],
      "text/plain": [
       "<IPython.core.display.HTML object>"
      ]
     },
     "metadata": {},
     "output_type": "display_data"
    },
    {
     "data": {
      "text/html": [
       "Find logs at: <code>.\\wandb\\run-20241127_162452-cr8gztng\\logs</code>"
      ],
      "text/plain": [
       "<IPython.core.display.HTML object>"
      ]
     },
     "metadata": {},
     "output_type": "display_data"
    },
    {
     "name": "stderr",
     "output_type": "stream",
     "text": [
      "\u001b[34m\u001b[1mwandb\u001b[0m: Agent Starting Run: uxhm89gw with config:\n",
      "\u001b[34m\u001b[1mwandb\u001b[0m: \tbatch_size: 16\n",
      "\u001b[34m\u001b[1mwandb\u001b[0m: \tepochs: 50\n",
      "\u001b[34m\u001b[1mwandb\u001b[0m: \tlearning_rate: 0.01\n",
      "\u001b[34m\u001b[1mwandb\u001b[0m: \tneurons_per_layer: 2\n",
      "\u001b[34m\u001b[1mwandb\u001b[0m: \tnum_layers: 3\n"
     ]
    },
    {
     "data": {
      "text/html": [
       "Tracking run with wandb version 0.18.7"
      ],
      "text/plain": [
       "<IPython.core.display.HTML object>"
      ]
     },
     "metadata": {},
     "output_type": "display_data"
    },
    {
     "data": {
      "text/html": [
       "Run data is saved locally in <code>c:\\Users\\wheus\\OneDrive - University of Copenhagen\\KU\\Kandidat\\2. aar\\Blok2\\DeepLearning\\AdvancedDeeplearning\\Assignment1\\wandb\\run-20241127_162507-uxhm89gw</code>"
      ],
      "text/plain": [
       "<IPython.core.display.HTML object>"
      ]
     },
     "metadata": {},
     "output_type": "display_data"
    },
    {
     "data": {
      "text/html": [
       "Syncing run <strong><a href='https://wandb.ai/sdr366-university-of-copenhagen/noisy-xor-classification%20sweeping/runs/uxhm89gw' target=\"_blank\">stellar-sweep-8</a></strong> to <a href='https://wandb.ai/sdr366-university-of-copenhagen/noisy-xor-classification%20sweeping' target=\"_blank\">Weights & Biases</a> (<a href='https://wandb.me/developer-guide' target=\"_blank\">docs</a>)<br/>Sweep page: <a href='https://wandb.ai/sdr366-university-of-copenhagen/noisy-xor-classification%20sweeping/sweeps/mxtzwhf9' target=\"_blank\">https://wandb.ai/sdr366-university-of-copenhagen/noisy-xor-classification%20sweeping/sweeps/mxtzwhf9</a>"
      ],
      "text/plain": [
       "<IPython.core.display.HTML object>"
      ]
     },
     "metadata": {},
     "output_type": "display_data"
    },
    {
     "data": {
      "text/html": [
       " View project at <a href='https://wandb.ai/sdr366-university-of-copenhagen/noisy-xor-classification%20sweeping' target=\"_blank\">https://wandb.ai/sdr366-university-of-copenhagen/noisy-xor-classification%20sweeping</a>"
      ],
      "text/plain": [
       "<IPython.core.display.HTML object>"
      ]
     },
     "metadata": {},
     "output_type": "display_data"
    },
    {
     "data": {
      "text/html": [
       " View sweep at <a href='https://wandb.ai/sdr366-university-of-copenhagen/noisy-xor-classification%20sweeping/sweeps/mxtzwhf9' target=\"_blank\">https://wandb.ai/sdr366-university-of-copenhagen/noisy-xor-classification%20sweeping/sweeps/mxtzwhf9</a>"
      ],
      "text/plain": [
       "<IPython.core.display.HTML object>"
      ]
     },
     "metadata": {},
     "output_type": "display_data"
    },
    {
     "data": {
      "text/html": [
       " View run at <a href='https://wandb.ai/sdr366-university-of-copenhagen/noisy-xor-classification%20sweeping/runs/uxhm89gw' target=\"_blank\">https://wandb.ai/sdr366-university-of-copenhagen/noisy-xor-classification%20sweeping/runs/uxhm89gw</a>"
      ],
      "text/plain": [
       "<IPython.core.display.HTML object>"
      ]
     },
     "metadata": {},
     "output_type": "display_data"
    },
    {
     "data": {
      "text/html": [
       "\n",
       "    <style>\n",
       "        .wandb-row {\n",
       "            display: flex;\n",
       "            flex-direction: row;\n",
       "            flex-wrap: wrap;\n",
       "            justify-content: flex-start;\n",
       "            width: 100%;\n",
       "        }\n",
       "        .wandb-col {\n",
       "            display: flex;\n",
       "            flex-direction: column;\n",
       "            flex-basis: 100%;\n",
       "            flex: 1;\n",
       "            padding: 10px;\n",
       "        }\n",
       "    </style>\n",
       "<div class=\"wandb-row\"><div class=\"wandb-col\"><h3>Run history:</h3><br/><table class=\"wandb\"><tr><td>epoch</td><td>▁▁▁▁▂▂▂▂▂▃▃▃▃▃▃▄▄▄▄▄▅▅▅▅▅▅▆▆▆▆▆▇▇▇▇▇▇███</td></tr><tr><td>train_loss</td><td>█▇▃▁▁▁▁▁▁▁▁▁▁▁▁▁▁▁▁▁▁▁▁▁▁▁▁▁▁▁▁▁▁▁▁▁▁▁▁▁</td></tr><tr><td>val_loss</td><td>█▆▂▁▁▁▁▁▁▁▁▁▁▁▁▁▁▁▁▁▁▁▁▁▁▁▁▁▁▁▁▁▁▁▁▁▁▁▁▁</td></tr></table><br/></div><div class=\"wandb-col\"><h3>Run summary:</h3><br/><table class=\"wandb\"><tr><td>epoch</td><td>50</td></tr><tr><td>train_loss</td><td>0.00019</td></tr><tr><td>val_loss</td><td>0.0002</td></tr></table><br/></div></div>"
      ],
      "text/plain": [
       "<IPython.core.display.HTML object>"
      ]
     },
     "metadata": {},
     "output_type": "display_data"
    },
    {
     "data": {
      "text/html": [
       " View run <strong style=\"color:#cdcd00\">stellar-sweep-8</strong> at: <a href='https://wandb.ai/sdr366-university-of-copenhagen/noisy-xor-classification%20sweeping/runs/uxhm89gw' target=\"_blank\">https://wandb.ai/sdr366-university-of-copenhagen/noisy-xor-classification%20sweeping/runs/uxhm89gw</a><br/> View project at: <a href='https://wandb.ai/sdr366-university-of-copenhagen/noisy-xor-classification%20sweeping' target=\"_blank\">https://wandb.ai/sdr366-university-of-copenhagen/noisy-xor-classification%20sweeping</a><br/>Synced 4 W&B file(s), 0 media file(s), 0 artifact file(s) and 0 other file(s)"
      ],
      "text/plain": [
       "<IPython.core.display.HTML object>"
      ]
     },
     "metadata": {},
     "output_type": "display_data"
    },
    {
     "data": {
      "text/html": [
       "Find logs at: <code>.\\wandb\\run-20241127_162507-uxhm89gw\\logs</code>"
      ],
      "text/plain": [
       "<IPython.core.display.HTML object>"
      ]
     },
     "metadata": {},
     "output_type": "display_data"
    },
    {
     "name": "stderr",
     "output_type": "stream",
     "text": [
      "\u001b[34m\u001b[1mwandb\u001b[0m: Agent Starting Run: i8cevadt with config:\n",
      "\u001b[34m\u001b[1mwandb\u001b[0m: \tbatch_size: 16\n",
      "\u001b[34m\u001b[1mwandb\u001b[0m: \tepochs: 50\n",
      "\u001b[34m\u001b[1mwandb\u001b[0m: \tlearning_rate: 0.1\n",
      "\u001b[34m\u001b[1mwandb\u001b[0m: \tneurons_per_layer: 2\n",
      "\u001b[34m\u001b[1mwandb\u001b[0m: \tnum_layers: 3\n"
     ]
    },
    {
     "data": {
      "text/html": [
       "Tracking run with wandb version 0.18.7"
      ],
      "text/plain": [
       "<IPython.core.display.HTML object>"
      ]
     },
     "metadata": {},
     "output_type": "display_data"
    },
    {
     "data": {
      "text/html": [
       "Run data is saved locally in <code>c:\\Users\\wheus\\OneDrive - University of Copenhagen\\KU\\Kandidat\\2. aar\\Blok2\\DeepLearning\\AdvancedDeeplearning\\Assignment1\\wandb\\run-20241127_162528-i8cevadt</code>"
      ],
      "text/plain": [
       "<IPython.core.display.HTML object>"
      ]
     },
     "metadata": {},
     "output_type": "display_data"
    },
    {
     "data": {
      "text/html": [
       "Syncing run <strong><a href='https://wandb.ai/sdr366-university-of-copenhagen/noisy-xor-classification%20sweeping/runs/i8cevadt' target=\"_blank\">colorful-sweep-9</a></strong> to <a href='https://wandb.ai/sdr366-university-of-copenhagen/noisy-xor-classification%20sweeping' target=\"_blank\">Weights & Biases</a> (<a href='https://wandb.me/developer-guide' target=\"_blank\">docs</a>)<br/>Sweep page: <a href='https://wandb.ai/sdr366-university-of-copenhagen/noisy-xor-classification%20sweeping/sweeps/mxtzwhf9' target=\"_blank\">https://wandb.ai/sdr366-university-of-copenhagen/noisy-xor-classification%20sweeping/sweeps/mxtzwhf9</a>"
      ],
      "text/plain": [
       "<IPython.core.display.HTML object>"
      ]
     },
     "metadata": {},
     "output_type": "display_data"
    },
    {
     "data": {
      "text/html": [
       " View project at <a href='https://wandb.ai/sdr366-university-of-copenhagen/noisy-xor-classification%20sweeping' target=\"_blank\">https://wandb.ai/sdr366-university-of-copenhagen/noisy-xor-classification%20sweeping</a>"
      ],
      "text/plain": [
       "<IPython.core.display.HTML object>"
      ]
     },
     "metadata": {},
     "output_type": "display_data"
    },
    {
     "data": {
      "text/html": [
       " View sweep at <a href='https://wandb.ai/sdr366-university-of-copenhagen/noisy-xor-classification%20sweeping/sweeps/mxtzwhf9' target=\"_blank\">https://wandb.ai/sdr366-university-of-copenhagen/noisy-xor-classification%20sweeping/sweeps/mxtzwhf9</a>"
      ],
      "text/plain": [
       "<IPython.core.display.HTML object>"
      ]
     },
     "metadata": {},
     "output_type": "display_data"
    },
    {
     "data": {
      "text/html": [
       " View run at <a href='https://wandb.ai/sdr366-university-of-copenhagen/noisy-xor-classification%20sweeping/runs/i8cevadt' target=\"_blank\">https://wandb.ai/sdr366-university-of-copenhagen/noisy-xor-classification%20sweeping/runs/i8cevadt</a>"
      ],
      "text/plain": [
       "<IPython.core.display.HTML object>"
      ]
     },
     "metadata": {},
     "output_type": "display_data"
    },
    {
     "data": {
      "text/html": [
       "\n",
       "    <style>\n",
       "        .wandb-row {\n",
       "            display: flex;\n",
       "            flex-direction: row;\n",
       "            flex-wrap: wrap;\n",
       "            justify-content: flex-start;\n",
       "            width: 100%;\n",
       "        }\n",
       "        .wandb-col {\n",
       "            display: flex;\n",
       "            flex-direction: column;\n",
       "            flex-basis: 100%;\n",
       "            flex: 1;\n",
       "            padding: 10px;\n",
       "        }\n",
       "    </style>\n",
       "<div class=\"wandb-row\"><div class=\"wandb-col\"><h3>Run history:</h3><br/><table class=\"wandb\"><tr><td>epoch</td><td>▁▁▁▁▂▂▂▂▂▂▃▃▃▃▃▄▄▄▄▄▅▅▅▅▅▅▆▆▆▆▆▆▇▇▇▇▇▇██</td></tr><tr><td>train_loss</td><td>█▃▁▁▂▁▁▁▁▁▁▁▁▁▁▁▁▁▁▁▁▁▁▁▁▁▁▁▁▁▁▁▁▁▁▁▁▁▁▁</td></tr><tr><td>val_loss</td><td>█▂▁▂▃▁▁▁▁▁▁▁▁▁▁▁▁▁▁▁▁▁▁▁▁▁▁▁▁▁▁▁▁▁▁▁▁▁▁▁</td></tr></table><br/></div><div class=\"wandb-col\"><h3>Run summary:</h3><br/><table class=\"wandb\"><tr><td>epoch</td><td>50</td></tr><tr><td>train_loss</td><td>3e-05</td></tr><tr><td>val_loss</td><td>0.03251</td></tr></table><br/></div></div>"
      ],
      "text/plain": [
       "<IPython.core.display.HTML object>"
      ]
     },
     "metadata": {},
     "output_type": "display_data"
    },
    {
     "data": {
      "text/html": [
       " View run <strong style=\"color:#cdcd00\">colorful-sweep-9</strong> at: <a href='https://wandb.ai/sdr366-university-of-copenhagen/noisy-xor-classification%20sweeping/runs/i8cevadt' target=\"_blank\">https://wandb.ai/sdr366-university-of-copenhagen/noisy-xor-classification%20sweeping/runs/i8cevadt</a><br/> View project at: <a href='https://wandb.ai/sdr366-university-of-copenhagen/noisy-xor-classification%20sweeping' target=\"_blank\">https://wandb.ai/sdr366-university-of-copenhagen/noisy-xor-classification%20sweeping</a><br/>Synced 4 W&B file(s), 0 media file(s), 0 artifact file(s) and 0 other file(s)"
      ],
      "text/plain": [
       "<IPython.core.display.HTML object>"
      ]
     },
     "metadata": {},
     "output_type": "display_data"
    },
    {
     "data": {
      "text/html": [
       "Find logs at: <code>.\\wandb\\run-20241127_162528-i8cevadt\\logs</code>"
      ],
      "text/plain": [
       "<IPython.core.display.HTML object>"
      ]
     },
     "metadata": {},
     "output_type": "display_data"
    },
    {
     "name": "stderr",
     "output_type": "stream",
     "text": [
      "\u001b[34m\u001b[1mwandb\u001b[0m: Agent Starting Run: fbm47chl with config:\n",
      "\u001b[34m\u001b[1mwandb\u001b[0m: \tbatch_size: 32\n",
      "\u001b[34m\u001b[1mwandb\u001b[0m: \tepochs: 10\n",
      "\u001b[34m\u001b[1mwandb\u001b[0m: \tlearning_rate: 0.001\n",
      "\u001b[34m\u001b[1mwandb\u001b[0m: \tneurons_per_layer: 2\n",
      "\u001b[34m\u001b[1mwandb\u001b[0m: \tnum_layers: 3\n"
     ]
    },
    {
     "data": {
      "text/html": [
       "Tracking run with wandb version 0.18.7"
      ],
      "text/plain": [
       "<IPython.core.display.HTML object>"
      ]
     },
     "metadata": {},
     "output_type": "display_data"
    },
    {
     "data": {
      "text/html": [
       "Run data is saved locally in <code>c:\\Users\\wheus\\OneDrive - University of Copenhagen\\KU\\Kandidat\\2. aar\\Blok2\\DeepLearning\\AdvancedDeeplearning\\Assignment1\\wandb\\run-20241127_162544-fbm47chl</code>"
      ],
      "text/plain": [
       "<IPython.core.display.HTML object>"
      ]
     },
     "metadata": {},
     "output_type": "display_data"
    },
    {
     "data": {
      "text/html": [
       "Syncing run <strong><a href='https://wandb.ai/sdr366-university-of-copenhagen/noisy-xor-classification%20sweeping/runs/fbm47chl' target=\"_blank\">jolly-sweep-10</a></strong> to <a href='https://wandb.ai/sdr366-university-of-copenhagen/noisy-xor-classification%20sweeping' target=\"_blank\">Weights & Biases</a> (<a href='https://wandb.me/developer-guide' target=\"_blank\">docs</a>)<br/>Sweep page: <a href='https://wandb.ai/sdr366-university-of-copenhagen/noisy-xor-classification%20sweeping/sweeps/mxtzwhf9' target=\"_blank\">https://wandb.ai/sdr366-university-of-copenhagen/noisy-xor-classification%20sweeping/sweeps/mxtzwhf9</a>"
      ],
      "text/plain": [
       "<IPython.core.display.HTML object>"
      ]
     },
     "metadata": {},
     "output_type": "display_data"
    },
    {
     "data": {
      "text/html": [
       " View project at <a href='https://wandb.ai/sdr366-university-of-copenhagen/noisy-xor-classification%20sweeping' target=\"_blank\">https://wandb.ai/sdr366-university-of-copenhagen/noisy-xor-classification%20sweeping</a>"
      ],
      "text/plain": [
       "<IPython.core.display.HTML object>"
      ]
     },
     "metadata": {},
     "output_type": "display_data"
    },
    {
     "data": {
      "text/html": [
       " View sweep at <a href='https://wandb.ai/sdr366-university-of-copenhagen/noisy-xor-classification%20sweeping/sweeps/mxtzwhf9' target=\"_blank\">https://wandb.ai/sdr366-university-of-copenhagen/noisy-xor-classification%20sweeping/sweeps/mxtzwhf9</a>"
      ],
      "text/plain": [
       "<IPython.core.display.HTML object>"
      ]
     },
     "metadata": {},
     "output_type": "display_data"
    },
    {
     "data": {
      "text/html": [
       " View run at <a href='https://wandb.ai/sdr366-university-of-copenhagen/noisy-xor-classification%20sweeping/runs/fbm47chl' target=\"_blank\">https://wandb.ai/sdr366-university-of-copenhagen/noisy-xor-classification%20sweeping/runs/fbm47chl</a>"
      ],
      "text/plain": [
       "<IPython.core.display.HTML object>"
      ]
     },
     "metadata": {},
     "output_type": "display_data"
    },
    {
     "data": {
      "text/html": [
       "\n",
       "    <style>\n",
       "        .wandb-row {\n",
       "            display: flex;\n",
       "            flex-direction: row;\n",
       "            flex-wrap: wrap;\n",
       "            justify-content: flex-start;\n",
       "            width: 100%;\n",
       "        }\n",
       "        .wandb-col {\n",
       "            display: flex;\n",
       "            flex-direction: column;\n",
       "            flex-basis: 100%;\n",
       "            flex: 1;\n",
       "            padding: 10px;\n",
       "        }\n",
       "    </style>\n",
       "<div class=\"wandb-row\"><div class=\"wandb-col\"><h3>Run history:</h3><br/><table class=\"wandb\"><tr><td>epoch</td><td>▁▂▃▃▄▅▆▆▇█</td></tr><tr><td>train_loss</td><td>███▇▇▆▅▄▃▁</td></tr><tr><td>val_loss</td><td>███▇▇▆▅▄▂▁</td></tr></table><br/></div><div class=\"wandb-col\"><h3>Run summary:</h3><br/><table class=\"wandb\"><tr><td>epoch</td><td>10</td></tr><tr><td>train_loss</td><td>0.63106</td></tr><tr><td>val_loss</td><td>0.61563</td></tr></table><br/></div></div>"
      ],
      "text/plain": [
       "<IPython.core.display.HTML object>"
      ]
     },
     "metadata": {},
     "output_type": "display_data"
    },
    {
     "data": {
      "text/html": [
       " View run <strong style=\"color:#cdcd00\">jolly-sweep-10</strong> at: <a href='https://wandb.ai/sdr366-university-of-copenhagen/noisy-xor-classification%20sweeping/runs/fbm47chl' target=\"_blank\">https://wandb.ai/sdr366-university-of-copenhagen/noisy-xor-classification%20sweeping/runs/fbm47chl</a><br/> View project at: <a href='https://wandb.ai/sdr366-university-of-copenhagen/noisy-xor-classification%20sweeping' target=\"_blank\">https://wandb.ai/sdr366-university-of-copenhagen/noisy-xor-classification%20sweeping</a><br/>Synced 4 W&B file(s), 0 media file(s), 0 artifact file(s) and 0 other file(s)"
      ],
      "text/plain": [
       "<IPython.core.display.HTML object>"
      ]
     },
     "metadata": {},
     "output_type": "display_data"
    },
    {
     "data": {
      "text/html": [
       "Find logs at: <code>.\\wandb\\run-20241127_162544-fbm47chl\\logs</code>"
      ],
      "text/plain": [
       "<IPython.core.display.HTML object>"
      ]
     },
     "metadata": {},
     "output_type": "display_data"
    }
   ],
   "source": [
    "sweep_config = {\n",
    "    \"method\": \"grid\",  # Options: 'grid', 'random', 'bayes'\n",
    "    \"metric\": {\n",
    "        \"name\": \"val_loss\",  # Metric to optimize\n",
    "        \"goal\": \"minimize\"  # Goal: minimize or maximize\n",
    "    },\n",
    "    \"parameters\": {\n",
    "        \"learning_rate\": {\n",
    "            \"values\": [0.001, 0.01, 0.1]\n",
    "        },\n",
    "        \"batch_size\": {\n",
    "            \"values\": [16, 32, 64]\n",
    "        },\n",
    "        \"epochs\": {\n",
    "            \"values\": [10, 25, 50]\n",
    "        },\n",
    "        \"num_layers\": {\n",
    "            \"values\": [3]\n",
    "        },\n",
    "        \"neurons_per_layer\": {\n",
    "            \"values\": [2]\n",
    "        }\n",
    "    }\n",
    "}\n",
    "\n",
    "sweep_id = wandb.sweep(sweep_config, project=\"noisy-xor-classification sweeping\")\n",
    "wandb.agent(sweep_id, train_and_evaluate, count=10) "
   ]
  }
 ],
 "metadata": {
  "kernelspec": {
   "display_name": ".venv",
   "language": "python",
   "name": "python3"
  },
  "language_info": {
   "codemirror_mode": {
    "name": "ipython",
    "version": 3
   },
   "file_extension": ".py",
   "mimetype": "text/x-python",
   "name": "python",
   "nbconvert_exporter": "python",
   "pygments_lexer": "ipython3",
   "version": "3.10.0"
  }
 },
 "nbformat": 4,
 "nbformat_minor": 2
}
